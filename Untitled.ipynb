{
 "cells": [
  {
   "cell_type": "code",
   "execution_count": 3,
   "metadata": {},
   "outputs": [
    {
     "data": {
      "text/plain": [
       "2"
      ]
     },
     "execution_count": 3,
     "metadata": {},
     "output_type": "execute_result"
    }
   ],
   "source": [
    "5 // 2 "
   ]
  },
  {
   "cell_type": "code",
   "execution_count": 4,
   "metadata": {},
   "outputs": [
    {
     "data": {
      "text/plain": [
       "False"
      ]
     },
     "execution_count": 4,
     "metadata": {},
     "output_type": "execute_result"
    }
   ],
   "source": [
    "any([0, 0])"
   ]
  },
  {
   "cell_type": "code",
   "execution_count": 8,
   "metadata": {},
   "outputs": [
    {
     "name": "stdout",
     "output_type": "stream",
     "text": [
      " [\n",
      "\t {'name': 'f8b4d1ee-24c6-487b-8bc8-e2562e5a00b2', 'age': 10}\n",
      "\t {'name': 'be3b55db-7fdc-485d-8df8-d39e21153fcd', 'age': 11}\n",
      "\t {'name': '09b3279a-e9d9-4ba6-826d-0e2402fd6683', 'age': 12}\n",
      "\t {'name': '014b8dff-d0ed-4ee2-a7f8-5821fb349e09', 'age': 13}\n",
      "\t {'name': '86839630-9c14-44bf-b63b-078512c050e4', 'age': 15}\n",
      "\t {'name': '13cc357e-19d8-48b7-8ac0-a76c18662742', 'age': 15}\n",
      "\t {'name': 'ef9ec01f-8d09-4bd6-a60b-bd6e424c7a29', 'age': 17}\n",
      "\t {'name': '4c61bc38-6bf4-4e82-ae6b-87eb93ebad55', 'age': 17}\n",
      "\t {'name': '14afef77-99f6-452c-bd18-48117707a34d', 'age': 18}\n",
      "\t {'name': '3c2b7950-e5ea-48fa-8300-aa4a773507e9', 'age': 19}\n",
      " ]\n"
     ]
    }
   ],
   "source": [
    "import uuid\n",
    "import random\n",
    "\n",
    "people = [\n",
    "    dict(\n",
    "        name=str(uuid.uuid4()), \n",
    "        age=random.randint(10, 20)\n",
    "    ) for _ in range(10)\n",
    "]\n",
    "\n",
    "people.sort(key=lambda data:data.get(\"age\"))\n",
    "\n",
    "def printlist(list_, /, tab=1):\n",
    "    print(\"\\t\"*(tab-1), \"[\")\n",
    "    for i in list_:\n",
    "        if type(i) == list:\n",
    "            printlist(i, tab=tab+1)\n",
    "        else:\n",
    "            print(\"\\t\"*tab, i)\n",
    "    print(\"\\t\"*(tab-1), \"]\")\n",
    "    \n",
    "printlist(people)"
   ]
  },
  {
   "cell_type": "code",
   "execution_count": null,
   "metadata": {},
   "outputs": [],
   "source": []
  }
 ],
 "metadata": {
  "kernelspec": {
   "display_name": "Python 3",
   "language": "python",
   "name": "python3"
  },
  "language_info": {
   "codemirror_mode": {
    "name": "ipython",
    "version": 3
   },
   "file_extension": ".py",
   "mimetype": "text/x-python",
   "name": "python",
   "nbconvert_exporter": "python",
   "pygments_lexer": "ipython3",
   "version": "3.8.5"
  }
 },
 "nbformat": 4,
 "nbformat_minor": 4
}
