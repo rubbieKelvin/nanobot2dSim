{
 "cells": [
  {
   "cell_type": "code",
   "execution_count": 3,
   "metadata": {},
   "outputs": [
    {
     "data": {
      "text/plain": [
       "2"
      ]
     },
     "execution_count": 3,
     "metadata": {},
     "output_type": "execute_result"
    }
   ],
   "source": [
    "5 // 2 "
   ]
  },
  {
   "cell_type": "code",
   "execution_count": 4,
   "metadata": {},
   "outputs": [
    {
     "data": {
      "text/plain": [
       "False"
      ]
     },
     "execution_count": 4,
     "metadata": {},
     "output_type": "execute_result"
    }
   ],
   "source": [
    "any([0, 0])"
   ]
  },
  {
   "cell_type": "code",
   "execution_count": 7,
   "metadata": {},
   "outputs": [
    {
     "name": "stdout",
     "output_type": "stream",
     "text": [
      " [\n",
      "\t {'name': '37f781d5-80c2-48e4-b873-edae25dbfb67', 'age': 10}\n",
      "\t {'name': '7f4a1550-ad9d-4c3a-9339-a466138d3579', 'age': 12}\n",
      "\t {'name': 'dcb2db68-9e1d-441c-9057-5edeb2a48d0a', 'age': 13}\n",
      "\t {'name': '9e092b24-e467-4e05-a8b5-123f8a9d57bc', 'age': 14}\n",
      "\t {'name': '8bec0818-d009-4faa-b68b-068aaf971256', 'age': 14}\n",
      "\t {'name': '9ca2d7aa-c91c-4d0c-bb2e-2fe26cf8068f', 'age': 16}\n",
      "\t {'name': '74cbdb3a-9c93-471b-8a8b-7576278cac80', 'age': 16}\n",
      "\t {'name': 'e56a49c5-4923-492c-93ba-9143ffa96fde', 'age': 16}\n",
      "\t {'name': 'a76078af-6497-49eb-bdb9-165b0778a998', 'age': 17}\n",
      "\t {'name': 'efaaa010-57ea-4acd-909b-3fb128bcbf2f', 'age': 18}\n"
     ]
    },
    {
     "ename": "TypeError",
     "evalue": "unsupported operand type(s) for -: 'str' and 'int'",
     "output_type": "error",
     "traceback": [
      "\u001b[0;31m---------------------------------------------------------------------------\u001b[0m",
      "\u001b[0;31mTypeError\u001b[0m                                 Traceback (most recent call last)",
      "\u001b[0;32m<ipython-input-7-213653b6f672>\u001b[0m in \u001b[0;36m<module>\u001b[0;34m\u001b[0m\n\u001b[1;32m     20\u001b[0m     \u001b[0mprint\u001b[0m\u001b[0;34m(\u001b[0m\u001b[0;34m\"\\t\"\u001b[0m\u001b[0;34m*\u001b[0m\u001b[0mtab\u001b[0m\u001b[0;34m-\u001b[0m\u001b[0;36m1\u001b[0m\u001b[0;34m,\u001b[0m \u001b[0;34m\"]\"\u001b[0m\u001b[0;34m)\u001b[0m\u001b[0;34m\u001b[0m\u001b[0;34m\u001b[0m\u001b[0m\n\u001b[1;32m     21\u001b[0m \u001b[0;34m\u001b[0m\u001b[0m\n\u001b[0;32m---> 22\u001b[0;31m \u001b[0mprintlist\u001b[0m\u001b[0;34m(\u001b[0m\u001b[0mpeople\u001b[0m\u001b[0;34m)\u001b[0m\u001b[0;34m\u001b[0m\u001b[0;34m\u001b[0m\u001b[0m\n\u001b[0m",
      "\u001b[0;32m<ipython-input-7-213653b6f672>\u001b[0m in \u001b[0;36mprintlist\u001b[0;34m(list_, tab)\u001b[0m\n\u001b[1;32m     18\u001b[0m         \u001b[0;32melse\u001b[0m\u001b[0;34m:\u001b[0m\u001b[0;34m\u001b[0m\u001b[0;34m\u001b[0m\u001b[0m\n\u001b[1;32m     19\u001b[0m             \u001b[0mprint\u001b[0m\u001b[0;34m(\u001b[0m\u001b[0;34m\"\\t\"\u001b[0m\u001b[0;34m*\u001b[0m\u001b[0mtab\u001b[0m\u001b[0;34m,\u001b[0m \u001b[0mi\u001b[0m\u001b[0;34m)\u001b[0m\u001b[0;34m\u001b[0m\u001b[0;34m\u001b[0m\u001b[0m\n\u001b[0;32m---> 20\u001b[0;31m     \u001b[0mprint\u001b[0m\u001b[0;34m(\u001b[0m\u001b[0;34m\"\\t\"\u001b[0m\u001b[0;34m*\u001b[0m\u001b[0mtab\u001b[0m\u001b[0;34m-\u001b[0m\u001b[0;36m1\u001b[0m\u001b[0;34m,\u001b[0m \u001b[0;34m\"]\"\u001b[0m\u001b[0;34m)\u001b[0m\u001b[0;34m\u001b[0m\u001b[0;34m\u001b[0m\u001b[0m\n\u001b[0m\u001b[1;32m     21\u001b[0m \u001b[0;34m\u001b[0m\u001b[0m\n\u001b[1;32m     22\u001b[0m \u001b[0mprintlist\u001b[0m\u001b[0;34m(\u001b[0m\u001b[0mpeople\u001b[0m\u001b[0;34m)\u001b[0m\u001b[0;34m\u001b[0m\u001b[0;34m\u001b[0m\u001b[0m\n",
      "\u001b[0;31mTypeError\u001b[0m: unsupported operand type(s) for -: 'str' and 'int'"
     ]
    }
   ],
   "source": [
    "import uuid\n",
    "import random\n",
    "\n",
    "people = [\n",
    "    dict(\n",
    "        name=str(uuid.uuid4()), \n",
    "        age=random.randint(10, 20)\n",
    "    ) for _ in range(10)\n",
    "]\n",
    "\n",
    "people.sort(key=lambda data:data.get(\"age\"))\n",
    "\n",
    "def printlist(list_, /, tab=1):\n",
    "    print(\"\\t\"*(tab-1), \"[\")\n",
    "    for i in list_:\n",
    "        if type(i) == list:\n",
    "            printlist(i, tab=tab+1)\n",
    "        else:\n",
    "            print(\"\\t\"*tab, i)\n",
    "    print(\"\\t\"*(tab-1), \"]\")\n",
    "    \n",
    "printlist(people)"
   ]
  },
  {
   "cell_type": "code",
   "execution_count": null,
   "metadata": {},
   "outputs": [],
   "source": []
  }
 ],
 "metadata": {
  "kernelspec": {
   "display_name": "Python 3",
   "language": "python",
   "name": "python3"
  },
  "language_info": {
   "codemirror_mode": {
    "name": "ipython",
    "version": 3
   },
   "file_extension": ".py",
   "mimetype": "text/x-python",
   "name": "python",
   "nbconvert_exporter": "python",
   "pygments_lexer": "ipython3",
   "version": "3.8.5"
  }
 },
 "nbformat": 4,
 "nbformat_minor": 4
}
